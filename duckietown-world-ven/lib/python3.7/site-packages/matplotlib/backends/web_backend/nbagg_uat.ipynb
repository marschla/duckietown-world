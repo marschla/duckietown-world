version https://git-lfs.github.com/spec/v1
oid sha256:cb537c850cc1274e6b27685995adbf330ead3947cd3f55072a8eb7e96d5ed3df
size 15933
