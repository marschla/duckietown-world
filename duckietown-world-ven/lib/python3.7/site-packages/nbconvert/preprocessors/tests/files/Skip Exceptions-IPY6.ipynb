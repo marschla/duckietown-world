version https://git-lfs.github.com/spec/v1
oid sha256:46c7147256cbcebdd1f2a27ca3f2b0ab39ebac124f09679a591c05b83e5a0c16
size 1359
