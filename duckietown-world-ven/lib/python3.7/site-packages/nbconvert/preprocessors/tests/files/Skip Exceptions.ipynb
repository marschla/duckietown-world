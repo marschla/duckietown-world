version https://git-lfs.github.com/spec/v1
oid sha256:d8978b634436d436e123fa8e8701d14b986a450440122b4d04052989843fca1d
size 1357
