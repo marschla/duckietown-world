version https://git-lfs.github.com/spec/v1
oid sha256:b87fdbbed70241031d05cc89a7f5dc6e078103fc926d21c73b8cdd9944ab829b
size 832
