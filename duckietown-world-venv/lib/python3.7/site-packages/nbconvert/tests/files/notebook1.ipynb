version https://git-lfs.github.com/spec/v1
oid sha256:4edc769ff6a32666b25f0648b54a6d1efb48a7490c395371363ea4164cb5def6
size 5744
