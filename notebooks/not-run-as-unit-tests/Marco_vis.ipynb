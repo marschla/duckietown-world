version https://git-lfs.github.com/spec/v1
oid sha256:6e2ba9a4ac57bfb93f6b6d725549ecb60d8db2be3df8155f1dd98bb238e8bfcd
size 798775
