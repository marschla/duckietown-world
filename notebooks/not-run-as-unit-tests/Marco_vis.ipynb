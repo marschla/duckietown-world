version https://git-lfs.github.com/spec/v1
oid sha256:f333ad7072f786e9230bb0d9f6f34e376d64f29bfe0fc11dc364dd18939fc03e
size 774950
