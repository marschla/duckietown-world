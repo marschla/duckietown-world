version https://git-lfs.github.com/spec/v1
oid sha256:7963a0e32e2c411a43ed80eb6187848b84cdd3cfe51ec4d8344ad194f19f7923
size 643054
