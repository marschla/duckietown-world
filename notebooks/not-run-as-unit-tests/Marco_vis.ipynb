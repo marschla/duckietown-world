version https://git-lfs.github.com/spec/v1
oid sha256:d0fac84c62cb24a67dc3581a8023a8cbf7694acbd7ea00caac1f60e77f71540c
size 773716
