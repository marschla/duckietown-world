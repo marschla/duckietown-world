version https://git-lfs.github.com/spec/v1
oid sha256:2823bf3541a02ac2cf988f8794f1d008744060e7be23e452b549c01d6b021315
size 1979608
